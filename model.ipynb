{
 "cells": [
  {
   "cell_type": "code",
   "execution_count": 6,
   "metadata": {},
   "outputs": [],
   "source": [
    "import pandas as pd\n",
    "import numpy as np\n",
    "import pickle\n",
    "from xgboost import XGBClassifier\n",
    "from sklearn.metrics import classification_report"
   ]
  },
  {
   "cell_type": "code",
   "execution_count": 21,
   "metadata": {},
   "outputs": [],
   "source": [
    "dataset = pd.read_csv(\"data/SPARCS-2015-TRAIN.csv\")\n",
    "dataset_val = pd.read_csv(\"data/SPARCS-2015-VAL.csv\")\n",
    "\n",
    "x = dataset.iloc[:, :11]\n",
    "y = dataset.iloc[:, -1]\n",
    "\n",
    "x_val = dataset_val.iloc[:, :11]\n",
    "y_val = dataset_val.iloc[:, -1]"
   ]
  },
  {
   "cell_type": "code",
   "execution_count": 23,
   "metadata": {},
   "outputs": [],
   "source": [
    "xgb = XGBClassifier(base_score=0.5, booster='gbtree', colsample_bylevel=1, colsample_bynode=1, colsample_bytree=1, gamma=0, learning_rate=0.1, max_delta_step=0, max_depth=12, min_child_weight=1, n_estimators=100, n_jobs=1, nthread=None, objective='binary:logistic', random_state=0, reg_alpha=0, reg_lambda=1, scale_pos_weight=1, seed=None, silent=None, subsample=1, verbosity=1)\n",
    "# xgb = XGBClassifier()\n",
    "xgb = xgb.fit(x.values, y.values)"
   ]
  },
  {
   "cell_type": "code",
   "execution_count": 24,
   "metadata": {},
   "outputs": [
    {
     "name": "stdout",
     "output_type": "stream",
     "text": [
      "== Training\n",
      "              precision    recall  f1-score   support\n",
      "\n",
      "           0       0.81      0.84      0.83    807979\n",
      "           1       0.79      0.76      0.77    633860\n",
      "\n",
      "    accuracy                           0.80   1441839\n",
      "   macro avg       0.80      0.80      0.80   1441839\n",
      "weighted avg       0.80      0.80      0.80   1441839\n",
      "\n",
      "== Validation\n",
      "              precision    recall  f1-score   support\n",
      "\n",
      "           0       0.80      0.83      0.82    110392\n",
      "           1       0.77      0.74      0.76     86223\n",
      "\n",
      "    accuracy                           0.79    196615\n",
      "   macro avg       0.79      0.79      0.79    196615\n",
      "weighted avg       0.79      0.79      0.79    196615\n",
      "\n"
     ]
    }
   ],
   "source": [
    "yt_pred = xgb.predict(x.values)\n",
    "y_pred = xgb.predict(x_val.values)\n",
    "print(\"== Training\")\n",
    "print(classification_report(y.values, yt_pred))\n",
    "print(\"== Validation\")\n",
    "print(classification_report(y_val.values, y_pred))"
   ]
  },
  {
   "cell_type": "code",
   "execution_count": 25,
   "metadata": {},
   "outputs": [],
   "source": [
    "# Saving model to disk\n",
    "pickle.dump(xgb, open('model/model.pkl','wb'))"
   ]
  },
  {
   "cell_type": "code",
   "execution_count": null,
   "metadata": {},
   "outputs": [],
   "source": []
  }
 ],
 "metadata": {
  "kernelspec": {
   "display_name": "Python 3.10.2 64-bit",
   "language": "python",
   "name": "python3"
  },
  "language_info": {
   "codemirror_mode": {
    "name": "ipython",
    "version": 3
   },
   "file_extension": ".py",
   "mimetype": "text/x-python",
   "name": "python",
   "nbconvert_exporter": "python",
   "pygments_lexer": "ipython3",
   "version": "3.10.2"
  },
  "orig_nbformat": 4,
  "vscode": {
   "interpreter": {
    "hash": "50b0125680e7cecd48a2f9c3f82b5458a9d8a93d85274cca60cb70eef2a77650"
   }
  }
 },
 "nbformat": 4,
 "nbformat_minor": 2
}
